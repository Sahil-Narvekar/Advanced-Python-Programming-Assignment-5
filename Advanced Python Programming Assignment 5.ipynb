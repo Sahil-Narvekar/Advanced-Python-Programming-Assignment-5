{
 "cells": [
  {
   "cell_type": "code",
   "execution_count": null,
   "metadata": {},
   "outputs": [],
   "source": [
    "1. Create a function that takes a number n (integer greater than zero) as an argument, and returns 2 if n is odd and 8 if n is even.\n",
    "\n",
    "You can only use the following arithmetic operators: addition of numbers +, subtraction of numbers -, multiplication of number *, division of number /, and exponentiation **.\n",
    "\n",
    "You are not allowed to use any other methods in this challenge (i.e. no if statements, comparison operators, etc).\n",
    "\n",
    "Examples\n",
    "\n",
    "f(1) ➞ 2\n",
    "\n",
    "f(2) ➞ 8\n",
    "\n",
    "f(3) ➞ 2\n"
   ]
  },
  {
   "cell_type": "code",
   "execution_count": 4,
   "metadata": {},
   "outputs": [
    {
     "data": {
      "text/plain": [
       "'5'"
      ]
     },
     "execution_count": 4,
     "metadata": {},
     "output_type": "execute_result"
    }
   ],
   "source": [
    "2. Create a function that returns the majority vote in a list. A majority vote is an element that occurs > N/2 times in a list (where N is the length of the list).\n",
    "\n",
    "Examples\n",
    "\n",
    "majority_vote([\"A\", \"A\", \"B\"]) ➞ \"A\"\n",
    "\n",
    "majority_vote([\"A\", \"A\", \"A\", \"B\", \"C\", \"A\"]) ➞ \"A\"\n",
    "\n",
    "majority_vote([\"A\", \"B\", \"B\", \"A\", \"C\", \"C\"]) ➞ None\n",
    "\n"
   ]
  },
  {
   "cell_type": "code",
   "execution_count": 29,
   "metadata": {},
   "outputs": [
    {
     "name": "stdout",
     "output_type": "stream",
     "text": [
      "Enter string[\"A\", \"A\", \"B\"]\n"
     ]
    },
    {
     "data": {
      "text/plain": [
       "'A'"
      ]
     },
     "execution_count": 29,
     "metadata": {},
     "output_type": "execute_result"
    }
   ],
   "source": [
    "a=(input('Enter string'))\n",
    "def majority_vote(a): \n",
    "    of=[]\n",
    "    for i in a:    \n",
    "        if i.isalpha():               \n",
    "            of.append(i)\n",
    "    for i in of:\n",
    "        if of.count(i)>=(len(of)//2)+1:\n",
    "            return i\n",
    "        elif i==of[-1]:\n",
    "            return 'None'\n",
    "        else:\n",
    "            continue\n",
    "majority_vote(a)"
   ]
  },
  {
   "cell_type": "code",
   "execution_count": null,
   "metadata": {},
   "outputs": [],
   "source": [
    "3. Create a function that takes a string txt and censors any word from a given list lst. The text removed\n",
    "must be replaced by the given character char.\n",
    "\n",
    "Examples\n",
    "\n",
    "censor_string(\"Today is a Wednesday!\", [\"Today\", \"a\"], \"-\") ➞ \"----- is - Wednesday!\"\n",
    "\n",
    "censor_string(\"The cow jumped over the moon.\", [\"cow\", \"over\"], \"*\"), \"The *** jumped **** the moon.\")\n",
    "\n",
    "censor_string(\"Why did the chicken cross the road?\", [\"did\", \"chicken\", \"road\"], \"*\") ➞ \"Why *** the ******* cross the ****?\"\n"
   ]
  },
  {
   "cell_type": "code",
   "execution_count": 12,
   "metadata": {},
   "outputs": [
    {
     "name": "stdout",
     "output_type": "stream",
     "text": [
      "Enter the string to be censoredWhy did the chicken cross the road?\n",
      "Enter the list of words to be censored [\"did\", \"chicken\", \"road\"]\n",
      "Enter the character that should be used to censor*\n"
     ]
    },
    {
     "data": {
      "text/plain": [
       "'Why***the*******crosstheroad?'"
      ]
     },
     "execution_count": 12,
     "metadata": {},
     "output_type": "execute_result"
    }
   ],
   "source": [
    "a=input('Enter the string to be censored')\n",
    "b=(input('Enter the list of words to be censored '))\n",
    "b.replace('\"','')\n",
    "b.replace('[','')\n",
    "b.replace(']','')\n",
    "b.split(',')\n",
    "d=input('Enter the character that should be used to censor')\n",
    "def censor_string(a,b,d):\n",
    "    g=''\n",
    "    a=a.split(' ')\n",
    "    c=set(a)and set(b)\n",
    "    list(c)\n",
    "    for i in a:\n",
    "        if i in b:\n",
    "            g+=(d*len(i))\n",
    "        else:\n",
    "            g+=(i)\n",
    "    return ((g))\n",
    "censor_string(a,b,d)"
   ]
  },
  {
   "cell_type": "code",
   "execution_count": null,
   "metadata": {},
   "outputs": [],
   "source": [
    "4. In mathematics a Polydivisible Number (or magic number) is a number in a given number base with \n",
    "digits abcde... that has the following properties:\n",
    "\n",
    "-  Its first digit a is not 0.\n",
    "- The number formed by its first two digits ab is a multiple of 2.\n",
    "- The number formed by its first three digits abc is a multiple of 3.\n",
    "- The number formed by its first four digits abcd is a multiple of 4.\n",
    "Examples\n",
    "\n",
    "is_polydivisible(1232) ➞ True\n",
    "# 1     / 1 = 1\n",
    "# 12    / 2 = 6\n",
    "# 123   / 3 = 41\n",
    "# 1232  / 4 = 308\n",
    "\n",
    "is_polydivisible(123220 ) ➞ False\n",
    "# 1   / 1 = 1\n",
    "# 12   / 2 = 6\n",
    "# 123   / 3 = 41\n",
    "# 1232   / 4 = 308\n",
    "# 12322   / 5 = 2464.4         # Not a Whole Number\n",
    "# 123220   /6 = 220536.333...  # Not a Whole Number\n",
    "\n",
    "Create a function which takes an integer n and returns True if the given number is a Polydivisible \n",
    "Number and False otherwise.\n"
   ]
  },
  {
   "cell_type": "code",
   "execution_count": 22,
   "metadata": {},
   "outputs": [
    {
     "name": "stdout",
     "output_type": "stream",
     "text": [
      "Enter the number1232\n"
     ]
    },
    {
     "data": {
      "text/plain": [
       "True"
      ]
     },
     "execution_count": 22,
     "metadata": {},
     "output_type": "execute_result"
    }
   ],
   "source": [
    "b=input('Enter the number')\n",
    "def is_polydivisible(b):\n",
    "    d=len(b)\n",
    "    if b[0]!='0':\n",
    "        for i in range(2,d+1):\n",
    "            if (int(b[:i]))%i==0:\n",
    "                if i==d:\n",
    "                    return True\n",
    "                else:\n",
    "                    continue    \n",
    "            else:\n",
    "                return False\n",
    "                break\n",
    "is_polydivisible(b)"
   ]
  },
  {
   "cell_type": "code",
   "execution_count": null,
   "metadata": {},
   "outputs": [],
   "source": [
    "5. Create a function that takes a list of numbers and returns the sum of all prime numbers in the list.\n",
    "\n",
    "Examples\n",
    "\n",
    "sum_primes([1, 2, 3, 4, 5, 6, 7, 8, 9, 10]) ➞ 17\n",
    "\n",
    "sum_primes([2, 3, 4, 11, 20, 50, 71]) ➞ 87\n",
    "\n",
    "sum_primes([]) ➞ None\n"
   ]
  },
  {
   "cell_type": "code",
   "execution_count": 56,
   "metadata": {},
   "outputs": [
    {
     "name": "stdout",
     "output_type": "stream",
     "text": [
      "Enter the integers 2, 3, 4, 11, 20, 50, 71\n"
     ]
    },
    {
     "data": {
      "text/plain": [
       "87"
      ]
     },
     "execution_count": 56,
     "metadata": {},
     "output_type": "execute_result"
    }
   ],
   "source": [
    "def sum_primes(x):\n",
    "    def primes(a):\n",
    "        if a==1:\n",
    "            return 0\n",
    "        elif a==2:\n",
    "            return a\n",
    "        for i in range(2,(a//2)+2):\n",
    "            if a%i==0:\n",
    "                return 0\n",
    "            else:\n",
    "                if i==((a//2)+1):\n",
    "                    return a     \n",
    "                else:\n",
    "                    continue\n",
    "    s=map(primes,x)\n",
    "    return (sum(list(s)))\n",
    "z=input('Enter the integers ').split(',')\n",
    "z=[int(i) for i in z]\n",
    "sum_primes(z)"
   ]
  },
  {
   "cell_type": "code",
   "execution_count": null,
   "metadata": {},
   "outputs": [],
   "source": []
  }
 ],
 "metadata": {
  "kernelspec": {
   "display_name": "Python 3",
   "language": "python",
   "name": "python3"
  },
  "language_info": {
   "codemirror_mode": {
    "name": "ipython",
    "version": 3
   },
   "file_extension": ".py",
   "mimetype": "text/x-python",
   "name": "python",
   "nbconvert_exporter": "python",
   "pygments_lexer": "ipython3",
   "version": "3.8.3"
  }
 },
 "nbformat": 4,
 "nbformat_minor": 4
}
